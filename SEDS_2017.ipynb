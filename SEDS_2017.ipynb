{
 "cells": [
  {
   "cell_type": "code",
   "execution_count": 2,
   "metadata": {},
   "outputs": [],
   "source": [
    "import pandas as pd"
   ]
  },
  {
   "cell_type": "code",
   "execution_count": 20,
   "metadata": {
    "scrolled": false
   },
   "outputs": [],
   "source": [
    "url = \"https://ncses.nsf.gov/pubs/nsf20301/assets/data-tables/tables/nsf20301-tab056.xlsx\"\n",
    "seds_2017 = pd.read_excel(url, header = 3)\n",
    "seds_2017 = seds_2017[seds_2017.Characteristic != \"Unknown\"].reset_index(drop = True)\n",
    "\n",
    "begin_male = seds_2017[seds_2017.Characteristic==\"Male doctorate recipients (number)\"].index[0]\n",
    "begin_female = seds_2017[seds_2017.Characteristic==\"Female doctorate recipients (number)\"].index[0]\n",
    "    \n",
    "questions = []\n",
    "\n",
    "\n",
    "\n",
    "for i in range(0,len(seds_2017)) :\n",
    "    if i < begin_male :\n",
    "        questions += [seds_2017.Characteristic[i]+\"_all\"]\n",
    "    elif begin_male <= i <= begin_female :\n",
    "        questions += [seds_2017.Characteristic[i]+\"_male\"]\n",
    "    elif i > begin_female :\n",
    "        questions += [seds_2017.Characteristic[i]+\"_female\"]\n",
    "            \n",
    "seds_2017[\"questions\"] = questions\n",
    "\n",
    "\n",
    "for i in range(58 , 70 , 2) :\n",
    "    url = \"https://ncses.nsf.gov/pubs/nsf20301/assets/data-tables/tables/nsf20301-tab0\"+str(i)+\".xlsx\"\n",
    "    df = pd.read_excel(url, header = 3)\n",
    "    df = df[df.Characteristic != \"Unknown\"].reset_index(drop = True)\n",
    "    \n",
    "    begin_male = df[df.Characteristic==\"Male doctorate recipients (number)\"].index[0]\n",
    "    begin_female = df[df.Characteristic==\"Female doctorate recipients (number)\"].index[0]\n",
    "    \n",
    "    questions = []\n",
    "    for i in range(0,len(df)) :\n",
    "        if i < begin_male :\n",
    "            questions += [df.Characteristic[i]+\"_all\"]\n",
    "        elif begin_male <= i <= begin_female :\n",
    "            questions += [df.Characteristic[i]+\"_male\"]\n",
    "        elif i > begin_female :\n",
    "            questions += [df.Characteristic[i]+\"_female\"]\n",
    "            \n",
    "    df[\"questions\"] = questions\n",
    "    \n",
    "    seds_2017 = seds_2017.join(df.set_index([\"questions\",\"Characteristic\"]) , on=[\"questions\",\"Characteristic\"])\n",
    "    #seds_2017 = pd.concat(seds_2017, df)\n",
    "\n",
    "#seds_2017.tail(10)\n",
    "\n"
   ]
  },
  {
   "cell_type": "code",
   "execution_count": 21,
   "metadata": {},
   "outputs": [],
   "source": [
    "td_seds_2017 = seds_2017.T\n",
    "td_seds_2017.columns = td_seds_2017.iloc[list(seds_2017.columns).index(\"questions\")]\n",
    "td_seds_2017[\"year\"] = [\"2017\"]*len(td_seds_2017)\n",
    "\n",
    "td_seds_2017 = td_seds_2017.drop([\"Characteristic\" , \"questions\"])"
   ]
  },
  {
   "cell_type": "code",
   "execution_count": null,
   "metadata": {},
   "outputs": [],
   "source": []
  },
  {
   "cell_type": "code",
   "execution_count": null,
   "metadata": {},
   "outputs": [],
   "source": []
  },
  {
   "cell_type": "code",
   "execution_count": null,
   "metadata": {},
   "outputs": [],
   "source": []
  },
  {
   "cell_type": "code",
   "execution_count": null,
   "metadata": {},
   "outputs": [],
   "source": []
  },
  {
   "cell_type": "code",
   "execution_count": null,
   "metadata": {},
   "outputs": [],
   "source": []
  },
  {
   "cell_type": "code",
   "execution_count": null,
   "metadata": {},
   "outputs": [],
   "source": []
  },
  {
   "cell_type": "code",
   "execution_count": null,
   "metadata": {},
   "outputs": [],
   "source": []
  },
  {
   "cell_type": "code",
   "execution_count": null,
   "metadata": {},
   "outputs": [],
   "source": [
    "#append all dfs for years"
   ]
  },
  {
   "cell_type": "code",
   "execution_count": 19,
   "metadata": {},
   "outputs": [],
   "source": [
    "td_seds_2017.to_csv(\"C:/Users/240-370-8956/Dropbox/Research/Visas/Analysis/seds_2017.csv\")"
   ]
  },
  {
   "cell_type": "code",
   "execution_count": null,
   "metadata": {},
   "outputs": [],
   "source": []
  },
  {
   "cell_type": "code",
   "execution_count": null,
   "metadata": {},
   "outputs": [],
   "source": []
  },
  {
   "cell_type": "code",
   "execution_count": null,
   "metadata": {},
   "outputs": [],
   "source": []
  }
 ],
 "metadata": {
  "kernelspec": {
   "display_name": "Python 3",
   "language": "python",
   "name": "python3"
  },
  "language_info": {
   "codemirror_mode": {
    "name": "ipython",
    "version": 3
   },
   "file_extension": ".py",
   "mimetype": "text/x-python",
   "name": "python",
   "nbconvert_exporter": "python",
   "pygments_lexer": "ipython3",
   "version": "3.7.2"
  }
 },
 "nbformat": 4,
 "nbformat_minor": 2
}
